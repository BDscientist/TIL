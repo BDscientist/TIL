{
 "cells": [
  {
   "cell_type": "markdown",
   "metadata": {},
   "source": [
    "# 2020년 8월 11일  \n",
    "\n",
    "\n",
    "### 오늘 한 일  \n",
    "- TIL 작성 결심을 하였다.   \n",
    "- DCASE를 generator 버전으로 만들어서 돌렸다. mixup 없이 했지만 val accuracy가 93퍼센트 나왔다. mixup과 제너레이터를 합친 버전을 만들어서 돌리고 있는데 오류도 안나고 돌아가는 과정도 나오지 않는다..뭔가 잘못된거 같다.    \n",
    "- 총학생회 운영계획을 작성에 시간을 많이 써서 공부를 많이 하지는 못했다.  \n",
    "\n",
    "\n",
    "### 내일 할 일  \n",
    "- 매일 코딩할 것 찾기(코딩 사이트, 책 등)  \n",
    "- 연구실 세미나(딥러닝 모델 경량화 발표)"
   ]
  }
 ],
 "metadata": {
  "kernelspec": {
   "display_name": "Python 3",
   "language": "python",
   "name": "python3"
  },
  "language_info": {
   "codemirror_mode": {
    "name": "ipython",
    "version": 3
   },
   "file_extension": ".py",
   "mimetype": "text/x-python",
   "name": "python",
   "nbconvert_exporter": "python",
   "pygments_lexer": "ipython3",
   "version": "3.7.6"
  }
 },
 "nbformat": 4,
 "nbformat_minor": 4
}
