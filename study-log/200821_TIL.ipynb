{
 "cells": [
  {
   "cell_type": "markdown",
   "metadata": {},
   "source": [
    "# 2020년 8월 21일 금요일 \n",
    "\n",
    "\n",
    "### 오늘 한 일  \n",
    "\n",
    "- tacademy에서 정형데이터분석에 대한 강의를 들었다.(어제 들은 것 이후)  \n",
    "    - 어떤식으로 베이스라인을 짤지, 정형데이터 분석과 관련된 전반적인 내용 학습     \n",
    "    - 기온, 강수량, 전날 기온 등     \n",
    "    - 베이스라인 모델 만든 후에 여러가지 의미있는 피쳐 뽑기  \n",
    "    "
   ]
  },
  {
   "cell_type": "markdown",
   "metadata": {},
   "source": [
    "#### 새로 배운 파이썬 내용"
   ]
  },
  {
   "cell_type": "markdown",
   "metadata": {},
   "source": [
    "- 얼마나 걸리는지 시간 나타내줌"
   ]
  },
  {
   "cell_type": "code",
   "execution_count": 1,
   "metadata": {},
   "outputs": [
    {
     "name": "stderr",
     "output_type": "stream",
     "text": [
      "/home/sy19/anaconda3/envs/bigcon/lib/python3.7/site-packages/ipykernel_launcher.py:3: TqdmDeprecationWarning: This function will be removed in tqdm==5.0.0\n",
      "Please use `tqdm.notebook.tqdm` instead of `tqdm.tqdm_notebook`\n",
      "  This is separate from the ipykernel package so we can avoid doing imports until\n"
     ]
    },
    {
     "data": {
      "application/vnd.jupyter.widget-view+json": {
       "model_id": "2c9a4155d82a41dd8b9f36be1087ba76",
       "version_major": 2,
       "version_minor": 0
      },
      "text/plain": [
       "HBox(children=(FloatProgress(value=0.0, max=10.0), HTML(value='')))"
      ]
     },
     "metadata": {},
     "output_type": "display_data"
    },
    {
     "name": "stdout",
     "output_type": "stream",
     "text": [
      "0\n",
      "1\n",
      "2\n",
      "3\n",
      "4\n",
      "5\n",
      "6\n",
      "7\n",
      "8\n",
      "9\n",
      "\n"
     ]
    }
   ],
   "source": [
    "from tqdm import tqdm_notebook\n",
    "\n",
    "for i in tqdm_notebook(range(10)):\n",
    "    print(i)"
   ]
  },
  {
   "cell_type": "markdown",
   "metadata": {},
   "source": [
    "- 날씨 변수 만들기  \n",
    "https://truman.tistory.com/97\n",
    "\n",
    "(월:0~일:6)"
   ]
  },
  {
   "cell_type": "code",
   "execution_count": 62,
   "metadata": {},
   "outputs": [],
   "source": [
    "train_day=train.copy()"
   ]
  },
  {
   "cell_type": "code",
   "execution_count": 73,
   "metadata": {},
   "outputs": [],
   "source": [
    "t=['월','화','수','목','금','토','일']"
   ]
  },
  {
   "cell_type": "code",
   "execution_count": 76,
   "metadata": {},
   "outputs": [],
   "source": [
    "train_day['요일']=train_day['방송일시'].dt.dayofweek"
   ]
  },
  {
   "cell_type": "code",
   "execution_count": 81,
   "metadata": {},
   "outputs": [],
   "source": [
    "train_day['요일']=train_day['요일'].apply(lambda x: t[x])"
   ]
  },
  {
   "cell_type": "code",
   "execution_count": 82,
   "metadata": {},
   "outputs": [
    {
     "data": {
      "text/html": [
       "<div>\n",
       "<style scoped>\n",
       "    .dataframe tbody tr th:only-of-type {\n",
       "        vertical-align: middle;\n",
       "    }\n",
       "\n",
       "    .dataframe tbody tr th {\n",
       "        vertical-align: top;\n",
       "    }\n",
       "\n",
       "    .dataframe thead th {\n",
       "        text-align: right;\n",
       "    }\n",
       "</style>\n",
       "<table border=\"1\" class=\"dataframe\">\n",
       "  <thead>\n",
       "    <tr style=\"text-align: right;\">\n",
       "      <th></th>\n",
       "      <th>방송일시</th>\n",
       "      <th>노출(분)</th>\n",
       "      <th>마더코드</th>\n",
       "      <th>상품코드</th>\n",
       "      <th>상품명</th>\n",
       "      <th>상품군</th>\n",
       "      <th>판매단가</th>\n",
       "      <th>취급액</th>\n",
       "      <th>판매개수</th>\n",
       "      <th>요일</th>\n",
       "    </tr>\n",
       "  </thead>\n",
       "  <tbody>\n",
       "    <tr>\n",
       "      <th>0</th>\n",
       "      <td>2019-01-01 06:00:00</td>\n",
       "      <td>20.000000</td>\n",
       "      <td>100346</td>\n",
       "      <td>201072</td>\n",
       "      <td>테이트 남성 셀린니트3종</td>\n",
       "      <td>의류</td>\n",
       "      <td>39900</td>\n",
       "      <td>2099000.0</td>\n",
       "      <td>52.0</td>\n",
       "      <td>화</td>\n",
       "    </tr>\n",
       "    <tr>\n",
       "      <th>1</th>\n",
       "      <td>2019-01-01 06:00:00</td>\n",
       "      <td>NaN</td>\n",
       "      <td>100346</td>\n",
       "      <td>201079</td>\n",
       "      <td>테이트 여성 셀린니트3종</td>\n",
       "      <td>의류</td>\n",
       "      <td>39900</td>\n",
       "      <td>4371000.0</td>\n",
       "      <td>109.0</td>\n",
       "      <td>화</td>\n",
       "    </tr>\n",
       "    <tr>\n",
       "      <th>2</th>\n",
       "      <td>2019-01-01 06:20:00</td>\n",
       "      <td>20.000000</td>\n",
       "      <td>100346</td>\n",
       "      <td>201072</td>\n",
       "      <td>테이트 남성 셀린니트3종</td>\n",
       "      <td>의류</td>\n",
       "      <td>39900</td>\n",
       "      <td>3262000.0</td>\n",
       "      <td>81.0</td>\n",
       "      <td>화</td>\n",
       "    </tr>\n",
       "    <tr>\n",
       "      <th>3</th>\n",
       "      <td>2019-01-01 06:20:00</td>\n",
       "      <td>NaN</td>\n",
       "      <td>100346</td>\n",
       "      <td>201079</td>\n",
       "      <td>테이트 여성 셀린니트3종</td>\n",
       "      <td>의류</td>\n",
       "      <td>39900</td>\n",
       "      <td>6955000.0</td>\n",
       "      <td>174.0</td>\n",
       "      <td>화</td>\n",
       "    </tr>\n",
       "    <tr>\n",
       "      <th>4</th>\n",
       "      <td>2019-01-01 06:40:00</td>\n",
       "      <td>20.000000</td>\n",
       "      <td>100346</td>\n",
       "      <td>201072</td>\n",
       "      <td>테이트 남성 셀린니트3종</td>\n",
       "      <td>의류</td>\n",
       "      <td>39900</td>\n",
       "      <td>6672000.0</td>\n",
       "      <td>167.0</td>\n",
       "      <td>화</td>\n",
       "    </tr>\n",
       "    <tr>\n",
       "      <th>...</th>\n",
       "      <td>...</td>\n",
       "      <td>...</td>\n",
       "      <td>...</td>\n",
       "      <td>...</td>\n",
       "      <td>...</td>\n",
       "      <td>...</td>\n",
       "      <td>...</td>\n",
       "      <td>...</td>\n",
       "      <td>...</td>\n",
       "      <td>...</td>\n",
       "    </tr>\n",
       "    <tr>\n",
       "      <th>38304</th>\n",
       "      <td>2020-01-01 00:20:00</td>\n",
       "      <td>20.000000</td>\n",
       "      <td>100073</td>\n",
       "      <td>200196</td>\n",
       "      <td>삼성화재 행복한파트너 주택화재보험(1912)</td>\n",
       "      <td>무형</td>\n",
       "      <td>0</td>\n",
       "      <td>NaN</td>\n",
       "      <td>NaN</td>\n",
       "      <td>수</td>\n",
       "    </tr>\n",
       "    <tr>\n",
       "      <th>38305</th>\n",
       "      <td>2020-01-01 00:40:00</td>\n",
       "      <td>20.000000</td>\n",
       "      <td>100073</td>\n",
       "      <td>200196</td>\n",
       "      <td>삼성화재 행복한파트너 주택화재보험(1912)</td>\n",
       "      <td>무형</td>\n",
       "      <td>0</td>\n",
       "      <td>NaN</td>\n",
       "      <td>NaN</td>\n",
       "      <td>수</td>\n",
       "    </tr>\n",
       "    <tr>\n",
       "      <th>38306</th>\n",
       "      <td>2020-01-01 01:00:00</td>\n",
       "      <td>20.000000</td>\n",
       "      <td>100073</td>\n",
       "      <td>200196</td>\n",
       "      <td>삼성화재 행복한파트너 주택화재보험(1912)</td>\n",
       "      <td>무형</td>\n",
       "      <td>0</td>\n",
       "      <td>NaN</td>\n",
       "      <td>NaN</td>\n",
       "      <td>수</td>\n",
       "    </tr>\n",
       "    <tr>\n",
       "      <th>38307</th>\n",
       "      <td>2020-01-01 01:20:00</td>\n",
       "      <td>20.000000</td>\n",
       "      <td>100490</td>\n",
       "      <td>201478</td>\n",
       "      <td>더케이 예다함 상조서비스(티포트)</td>\n",
       "      <td>무형</td>\n",
       "      <td>0</td>\n",
       "      <td>NaN</td>\n",
       "      <td>NaN</td>\n",
       "      <td>수</td>\n",
       "    </tr>\n",
       "    <tr>\n",
       "      <th>38308</th>\n",
       "      <td>2020-01-01 01:40:00</td>\n",
       "      <td>17.166667</td>\n",
       "      <td>100490</td>\n",
       "      <td>201478</td>\n",
       "      <td>더케이 예다함 상조서비스(티포트)</td>\n",
       "      <td>무형</td>\n",
       "      <td>0</td>\n",
       "      <td>NaN</td>\n",
       "      <td>NaN</td>\n",
       "      <td>수</td>\n",
       "    </tr>\n",
       "  </tbody>\n",
       "</table>\n",
       "<p>38309 rows × 10 columns</p>\n",
       "</div>"
      ],
      "text/plain": [
       "                     방송일시      노출(분)    마더코드    상품코드  \\\n",
       "0     2019-01-01 06:00:00  20.000000  100346  201072   \n",
       "1     2019-01-01 06:00:00        NaN  100346  201079   \n",
       "2     2019-01-01 06:20:00  20.000000  100346  201072   \n",
       "3     2019-01-01 06:20:00        NaN  100346  201079   \n",
       "4     2019-01-01 06:40:00  20.000000  100346  201072   \n",
       "...                   ...        ...     ...     ...   \n",
       "38304 2020-01-01 00:20:00  20.000000  100073  200196   \n",
       "38305 2020-01-01 00:40:00  20.000000  100073  200196   \n",
       "38306 2020-01-01 01:00:00  20.000000  100073  200196   \n",
       "38307 2020-01-01 01:20:00  20.000000  100490  201478   \n",
       "38308 2020-01-01 01:40:00  17.166667  100490  201478   \n",
       "\n",
       "                            상품명 상품군   판매단가        취급액   판매개수 요일  \n",
       "0                 테이트 남성 셀린니트3종  의류  39900  2099000.0   52.0  화  \n",
       "1                 테이트 여성 셀린니트3종  의류  39900  4371000.0  109.0  화  \n",
       "2                 테이트 남성 셀린니트3종  의류  39900  3262000.0   81.0  화  \n",
       "3                 테이트 여성 셀린니트3종  의류  39900  6955000.0  174.0  화  \n",
       "4                 테이트 남성 셀린니트3종  의류  39900  6672000.0  167.0  화  \n",
       "...                         ...  ..    ...        ...    ... ..  \n",
       "38304  삼성화재 행복한파트너 주택화재보험(1912)  무형      0        NaN    NaN  수  \n",
       "38305  삼성화재 행복한파트너 주택화재보험(1912)  무형      0        NaN    NaN  수  \n",
       "38306  삼성화재 행복한파트너 주택화재보험(1912)  무형      0        NaN    NaN  수  \n",
       "38307        더케이 예다함 상조서비스(티포트)  무형      0        NaN    NaN  수  \n",
       "38308        더케이 예다함 상조서비스(티포트)  무형      0        NaN    NaN  수  \n",
       "\n",
       "[38309 rows x 10 columns]"
      ]
     },
     "execution_count": 82,
     "metadata": {},
     "output_type": "execute_result"
    }
   ],
   "source": [
    "train_day"
   ]
  },
  {
   "cell_type": "markdown",
   "metadata": {},
   "source": [
    "### 내일 할 일\n",
    "- dcase 데이터 CAM  \n",
    "- 빅콘 편성표+실적데이터 합치기  \n",
    "- ADsP 1장 책보면서 이해  "
   ]
  }
 ],
 "metadata": {
  "kernelspec": {
   "display_name": "Python 3",
   "language": "python",
   "name": "python3"
  },
  "language_info": {
   "codemirror_mode": {
    "name": "ipython",
    "version": 3
   },
   "file_extension": ".py",
   "mimetype": "text/x-python",
   "name": "python",
   "nbconvert_exporter": "python",
   "pygments_lexer": "ipython3",
   "version": "3.7.7"
  }
 },
 "nbformat": 4,
 "nbformat_minor": 4
}
